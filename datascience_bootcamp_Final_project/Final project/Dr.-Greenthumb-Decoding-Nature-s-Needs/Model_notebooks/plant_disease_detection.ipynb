{
 "cells": [
  {
   "cell_type": "markdown",
   "metadata": {},
   "source": [
    "## TODO\n",
    "**Collecting and Annotating Images**\n",
    "\n",
    "**Applying Bounding Box Augmentation**\n",
    "\n",
    "**Build a deep onject detection model**\n",
    "\n",
    "**Evaluating model performance**\n",
    "\n",
    "**detect plant disease in real time**\n"
   ]
  },
  {
   "cell_type": "markdown",
   "metadata": {},
   "source": [
    "tutorial link\n",
    "https://www.youtube.com/watch?v=N_W4EYtsa10&list=PLgNJO2hghbmiXg5d4X8DURJP9yv9pgjIu&index=3"
   ]
  },
  {
   "cell_type": "markdown",
   "metadata": {},
   "source": [
    "## Collect Images and Annotate"
   ]
  },
  {
   "cell_type": "code",
   "execution_count": null,
   "metadata": {
    "vscode": {
     "languageId": "plaintext"
    }
   },
   "outputs": [],
   "source": []
  }
 ],
 "metadata": {
  "language_info": {
   "name": "python"
  }
 },
 "nbformat": 4,
 "nbformat_minor": 2
}
