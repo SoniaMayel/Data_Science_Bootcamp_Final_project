{
 "cells": [
  {
   "cell_type": "markdown",
   "metadata": {},
   "source": [
    "You can read this explanation from [Kaggle](https://www.kaggle.com/code/imtkaggleteam/plant-diseases-detection-pytorch) which I am currently following.\n"
   ]
  },
  {
   "cell_type": "markdown",
   "metadata": {},
   "source": [
    "## Import Libarys"
   ]
  },
  {
   "cell_type": "code",
   "execution_count": 2,
   "metadata": {},
   "outputs": [
    {
     "name": "stdout",
     "output_type": "stream",
     "text": [
      "Requirement already satisfied: torch in /Users/sadiakhanrupa/anaconda3/lib/python3.11/site-packages (2.2.2)\n",
      "Collecting torchvision\n",
      "  Obtaining dependency information for torchvision from https://files.pythonhosted.org/packages/b5/14/c05da13c98f528ba5fd99897320a7684df5dd136ec6faa6a5766f25e4a7e/torchvision-0.18.0-cp311-cp311-macosx_11_0_arm64.whl.metadata\n",
      "  Downloading torchvision-0.18.0-cp311-cp311-macosx_11_0_arm64.whl.metadata (6.6 kB)\n",
      "Collecting torchaudio\n",
      "  Obtaining dependency information for torchaudio from https://files.pythonhosted.org/packages/51/c8/2034c6a6b203fe79c9df8d8e018bfac989cd718be4b0c36940e1fc691fd0/torchaudio-2.3.0-cp311-cp311-macosx_11_0_arm64.whl.metadata\n",
      "  Downloading torchaudio-2.3.0-cp311-cp311-macosx_11_0_arm64.whl.metadata (6.4 kB)\n",
      "Requirement already satisfied: filelock in /Users/sadiakhanrupa/anaconda3/lib/python3.11/site-packages (from torch) (3.9.0)\n",
      "Requirement already satisfied: typing-extensions>=4.8.0 in /Users/sadiakhanrupa/anaconda3/lib/python3.11/site-packages (from torch) (4.11.0)\n",
      "Requirement already satisfied: sympy in /Users/sadiakhanrupa/anaconda3/lib/python3.11/site-packages (from torch) (1.11.1)\n",
      "Requirement already satisfied: networkx in /Users/sadiakhanrupa/anaconda3/lib/python3.11/site-packages (from torch) (3.1)\n",
      "Requirement already satisfied: jinja2 in /Users/sadiakhanrupa/anaconda3/lib/python3.11/site-packages (from torch) (3.1.3)\n",
      "Requirement already satisfied: fsspec in /Users/sadiakhanrupa/anaconda3/lib/python3.11/site-packages (from torch) (2024.3.1)\n",
      "Requirement already satisfied: numpy in /Users/sadiakhanrupa/anaconda3/lib/python3.11/site-packages (from torchvision) (1.26.4)\n",
      "Collecting torch\n",
      "  Obtaining dependency information for torch from https://files.pythonhosted.org/packages/ad/08/c5e41eb22323db4a52260607598a207a2e1918916ae8201aa7a8ae005fcd/torch-2.3.0-cp311-none-macosx_11_0_arm64.whl.metadata\n",
      "  Downloading torch-2.3.0-cp311-none-macosx_11_0_arm64.whl.metadata (26 kB)\n",
      "Requirement already satisfied: pillow!=8.3.*,>=5.3.0 in /Users/sadiakhanrupa/anaconda3/lib/python3.11/site-packages (from torchvision) (10.0.1)\n",
      "Requirement already satisfied: MarkupSafe>=2.0 in /Users/sadiakhanrupa/anaconda3/lib/python3.11/site-packages (from jinja2->torch) (2.1.5)\n",
      "Requirement already satisfied: mpmath>=0.19 in /Users/sadiakhanrupa/anaconda3/lib/python3.11/site-packages (from sympy->torch) (1.3.0)\n",
      "Downloading torchvision-0.18.0-cp311-cp311-macosx_11_0_arm64.whl (1.6 MB)\n",
      "\u001b[2K   \u001b[90m━━━━━━━━━━━━━━━━━━━━━━━━━━━━━━━━━━━━━━━━\u001b[0m \u001b[32m1.6/1.6 MB\u001b[0m \u001b[31m4.8 MB/s\u001b[0m eta \u001b[36m0:00:00\u001b[0ma \u001b[36m0:00:01\u001b[0m\n",
      "\u001b[?25hDownloading torch-2.3.0-cp311-none-macosx_11_0_arm64.whl (61.0 MB)\n",
      "\u001b[2K   \u001b[90m━━━━━━━━━━━━━━━━━━━━━━━━━━━━━━━━━━━━━━━━\u001b[0m \u001b[32m61.0/61.0 MB\u001b[0m \u001b[31m6.1 MB/s\u001b[0m eta \u001b[36m0:00:00\u001b[0m00:01\u001b[0m00:01\u001b[0m\n",
      "\u001b[?25hDownloading torchaudio-2.3.0-cp311-cp311-macosx_11_0_arm64.whl (1.8 MB)\n",
      "\u001b[2K   \u001b[90m━━━━━━━━━━━━━━━━━━━━━━━━━━━━━━━━━━━━━━━━\u001b[0m \u001b[32m1.8/1.8 MB\u001b[0m \u001b[31m6.6 MB/s\u001b[0m eta \u001b[36m0:00:00\u001b[0ma \u001b[36m0:00:01\u001b[0m\n",
      "\u001b[?25hInstalling collected packages: torch, torchvision, torchaudio\n",
      "  Attempting uninstall: torch\n",
      "    Found existing installation: torch 2.2.2\n",
      "    Uninstalling torch-2.2.2:\n",
      "      Successfully uninstalled torch-2.2.2\n",
      "Successfully installed torch-2.3.0 torchaudio-2.3.0 torchvision-0.18.0\n"
     ]
    }
   ],
   "source": [
    "!pip install torch torchvision torchaudio"
   ]
  },
  {
   "cell_type": "code",
   "execution_count": 3,
   "metadata": {},
   "outputs": [
    {
     "ename": "AttributeError",
     "evalue": "type object 'torch._C._onnx.TensorProtoDataType' has no attribute 'FLOAT8E5M2FNUZ'",
     "output_type": "error",
     "traceback": [
      "\u001b[0;31m---------------------------------------------------------------------------\u001b[0m",
      "\u001b[0;31mAttributeError\u001b[0m                            Traceback (most recent call last)",
      "Cell \u001b[0;32mIn[3], line 10\u001b[0m\n\u001b[1;32m      8\u001b[0m \u001b[38;5;28;01mfrom\u001b[39;00m \u001b[38;5;21;01mtorch\u001b[39;00m\u001b[38;5;21;01m.\u001b[39;00m\u001b[38;5;21;01mutils\u001b[39;00m\u001b[38;5;21;01m.\u001b[39;00m\u001b[38;5;21;01mdata\u001b[39;00m \u001b[38;5;28;01mimport\u001b[39;00m DataLoader\n\u001b[1;32m      9\u001b[0m \u001b[38;5;28;01mfrom\u001b[39;00m \u001b[38;5;21;01mPIL\u001b[39;00m \u001b[38;5;28;01mimport\u001b[39;00m Image\n\u001b[0;32m---> 10\u001b[0m \u001b[38;5;28;01mimport\u001b[39;00m \u001b[38;5;21;01mtorchvision\u001b[39;00m\n\u001b[1;32m     11\u001b[0m \u001b[38;5;28;01mimport\u001b[39;00m \u001b[38;5;21;01mtorchvision\u001b[39;00m\u001b[38;5;21;01m.\u001b[39;00m\u001b[38;5;21;01mtransforms\u001b[39;00m \u001b[38;5;28;01mas\u001b[39;00m \u001b[38;5;21;01mtransforms\u001b[39;00m\n\u001b[1;32m     12\u001b[0m \u001b[38;5;28;01mimport\u001b[39;00m \u001b[38;5;21;01mtorch\u001b[39;00m\u001b[38;5;21;01m.\u001b[39;00m\u001b[38;5;21;01moptim\u001b[39;00m \u001b[38;5;28;01mas\u001b[39;00m \u001b[38;5;21;01moptim\u001b[39;00m\n",
      "File \u001b[0;32m~/anaconda3/lib/python3.11/site-packages/torchvision/__init__.py:6\u001b[0m\n\u001b[1;32m      3\u001b[0m \u001b[38;5;28;01mfrom\u001b[39;00m \u001b[38;5;21;01mmodulefinder\u001b[39;00m \u001b[38;5;28;01mimport\u001b[39;00m Module\n\u001b[1;32m      5\u001b[0m \u001b[38;5;28;01mimport\u001b[39;00m \u001b[38;5;21;01mtorch\u001b[39;00m\n\u001b[0;32m----> 6\u001b[0m \u001b[38;5;28;01mfrom\u001b[39;00m \u001b[38;5;21;01mtorchvision\u001b[39;00m \u001b[38;5;28;01mimport\u001b[39;00m _meta_registrations, datasets, io, models, ops, transforms, utils\n\u001b[1;32m      8\u001b[0m \u001b[38;5;28;01mfrom\u001b[39;00m \u001b[38;5;21;01m.\u001b[39;00m\u001b[38;5;21;01mextension\u001b[39;00m \u001b[38;5;28;01mimport\u001b[39;00m _HAS_OPS\n\u001b[1;32m     10\u001b[0m \u001b[38;5;28;01mtry\u001b[39;00m:\n",
      "File \u001b[0;32m~/anaconda3/lib/python3.11/site-packages/torchvision/models/__init__.py:2\u001b[0m\n\u001b[1;32m      1\u001b[0m \u001b[38;5;28;01mfrom\u001b[39;00m \u001b[38;5;21;01m.\u001b[39;00m\u001b[38;5;21;01malexnet\u001b[39;00m \u001b[38;5;28;01mimport\u001b[39;00m \u001b[38;5;241m*\u001b[39m\n\u001b[0;32m----> 2\u001b[0m \u001b[38;5;28;01mfrom\u001b[39;00m \u001b[38;5;21;01m.\u001b[39;00m\u001b[38;5;21;01mconvnext\u001b[39;00m \u001b[38;5;28;01mimport\u001b[39;00m \u001b[38;5;241m*\u001b[39m\n\u001b[1;32m      3\u001b[0m \u001b[38;5;28;01mfrom\u001b[39;00m \u001b[38;5;21;01m.\u001b[39;00m\u001b[38;5;21;01mdensenet\u001b[39;00m \u001b[38;5;28;01mimport\u001b[39;00m \u001b[38;5;241m*\u001b[39m\n\u001b[1;32m      4\u001b[0m \u001b[38;5;28;01mfrom\u001b[39;00m \u001b[38;5;21;01m.\u001b[39;00m\u001b[38;5;21;01mefficientnet\u001b[39;00m \u001b[38;5;28;01mimport\u001b[39;00m \u001b[38;5;241m*\u001b[39m\n",
      "File \u001b[0;32m~/anaconda3/lib/python3.11/site-packages/torchvision/models/convnext.py:8\u001b[0m\n\u001b[1;32m      5\u001b[0m \u001b[38;5;28;01mfrom\u001b[39;00m \u001b[38;5;21;01mtorch\u001b[39;00m \u001b[38;5;28;01mimport\u001b[39;00m nn, Tensor\n\u001b[1;32m      6\u001b[0m \u001b[38;5;28;01mfrom\u001b[39;00m \u001b[38;5;21;01mtorch\u001b[39;00m\u001b[38;5;21;01m.\u001b[39;00m\u001b[38;5;21;01mnn\u001b[39;00m \u001b[38;5;28;01mimport\u001b[39;00m functional \u001b[38;5;28;01mas\u001b[39;00m F\n\u001b[0;32m----> 8\u001b[0m \u001b[38;5;28;01mfrom\u001b[39;00m \u001b[38;5;21;01m.\u001b[39;00m\u001b[38;5;21;01m.\u001b[39;00m\u001b[38;5;21;01mops\u001b[39;00m\u001b[38;5;21;01m.\u001b[39;00m\u001b[38;5;21;01mmisc\u001b[39;00m \u001b[38;5;28;01mimport\u001b[39;00m Conv2dNormActivation, Permute\n\u001b[1;32m      9\u001b[0m \u001b[38;5;28;01mfrom\u001b[39;00m \u001b[38;5;21;01m.\u001b[39;00m\u001b[38;5;21;01m.\u001b[39;00m\u001b[38;5;21;01mops\u001b[39;00m\u001b[38;5;21;01m.\u001b[39;00m\u001b[38;5;21;01mstochastic_depth\u001b[39;00m \u001b[38;5;28;01mimport\u001b[39;00m StochasticDepth\n\u001b[1;32m     10\u001b[0m \u001b[38;5;28;01mfrom\u001b[39;00m \u001b[38;5;21;01m.\u001b[39;00m\u001b[38;5;21;01m.\u001b[39;00m\u001b[38;5;21;01mtransforms\u001b[39;00m\u001b[38;5;21;01m.\u001b[39;00m\u001b[38;5;21;01m_presets\u001b[39;00m \u001b[38;5;28;01mimport\u001b[39;00m ImageClassification\n",
      "File \u001b[0;32m~/anaconda3/lib/python3.11/site-packages/torchvision/ops/__init__.py:1\u001b[0m\n\u001b[0;32m----> 1\u001b[0m \u001b[38;5;28;01mfrom\u001b[39;00m \u001b[38;5;21;01m.\u001b[39;00m\u001b[38;5;21;01m_register_onnx_ops\u001b[39;00m \u001b[38;5;28;01mimport\u001b[39;00m _register_custom_op\n\u001b[1;32m      2\u001b[0m \u001b[38;5;28;01mfrom\u001b[39;00m \u001b[38;5;21;01m.\u001b[39;00m\u001b[38;5;21;01mboxes\u001b[39;00m \u001b[38;5;28;01mimport\u001b[39;00m (\n\u001b[1;32m      3\u001b[0m     batched_nms,\n\u001b[1;32m      4\u001b[0m     box_area,\n\u001b[0;32m   (...)\u001b[0m\n\u001b[1;32m     13\u001b[0m     remove_small_boxes,\n\u001b[1;32m     14\u001b[0m )\n\u001b[1;32m     15\u001b[0m \u001b[38;5;28;01mfrom\u001b[39;00m \u001b[38;5;21;01m.\u001b[39;00m\u001b[38;5;21;01mciou_loss\u001b[39;00m \u001b[38;5;28;01mimport\u001b[39;00m complete_box_iou_loss\n",
      "File \u001b[0;32m~/anaconda3/lib/python3.11/site-packages/torchvision/ops/_register_onnx_ops.py:5\u001b[0m\n\u001b[1;32m      2\u001b[0m \u001b[38;5;28;01mimport\u001b[39;00m \u001b[38;5;21;01mwarnings\u001b[39;00m\n\u001b[1;32m      4\u001b[0m \u001b[38;5;28;01mimport\u001b[39;00m \u001b[38;5;21;01mtorch\u001b[39;00m\n\u001b[0;32m----> 5\u001b[0m \u001b[38;5;28;01mfrom\u001b[39;00m \u001b[38;5;21;01mtorch\u001b[39;00m\u001b[38;5;21;01m.\u001b[39;00m\u001b[38;5;21;01monnx\u001b[39;00m \u001b[38;5;28;01mimport\u001b[39;00m symbolic_opset11 \u001b[38;5;28;01mas\u001b[39;00m opset11\n\u001b[1;32m      6\u001b[0m \u001b[38;5;28;01mfrom\u001b[39;00m \u001b[38;5;21;01mtorch\u001b[39;00m\u001b[38;5;21;01m.\u001b[39;00m\u001b[38;5;21;01monnx\u001b[39;00m\u001b[38;5;21;01m.\u001b[39;00m\u001b[38;5;21;01msymbolic_helper\u001b[39;00m \u001b[38;5;28;01mimport\u001b[39;00m parse_args\n\u001b[1;32m      8\u001b[0m _ONNX_OPSET_VERSION_11 \u001b[38;5;241m=\u001b[39m \u001b[38;5;241m11\u001b[39m\n",
      "File \u001b[0;32m~/anaconda3/lib/python3.11/site-packages/torch/onnx/__init__.py:10\u001b[0m\n\u001b[1;32m      2\u001b[0m \u001b[38;5;28;01mfrom\u001b[39;00m \u001b[38;5;21;01mtorch\u001b[39;00m\u001b[38;5;21;01m.\u001b[39;00m\u001b[38;5;21;01m_C\u001b[39;00m \u001b[38;5;28;01mimport\u001b[39;00m _onnx \u001b[38;5;28;01mas\u001b[39;00m _C_onnx\n\u001b[1;32m      3\u001b[0m \u001b[38;5;28;01mfrom\u001b[39;00m \u001b[38;5;21;01mtorch\u001b[39;00m\u001b[38;5;21;01m.\u001b[39;00m\u001b[38;5;21;01m_C\u001b[39;00m\u001b[38;5;21;01m.\u001b[39;00m\u001b[38;5;21;01m_onnx\u001b[39;00m \u001b[38;5;28;01mimport\u001b[39;00m (\n\u001b[1;32m      4\u001b[0m     _CAFFE2_ATEN_FALLBACK,\n\u001b[1;32m      5\u001b[0m     OperatorExportTypes,\n\u001b[1;32m      6\u001b[0m     TensorProtoDataType,\n\u001b[1;32m      7\u001b[0m     TrainingMode,\n\u001b[1;32m      8\u001b[0m )\n\u001b[0;32m---> 10\u001b[0m \u001b[38;5;28;01mfrom\u001b[39;00m \u001b[38;5;21;01m.\u001b[39;00m \u001b[38;5;28;01mimport\u001b[39;00m (  \u001b[38;5;66;03m# usort:skip. Keep the order instead of sorting lexicographically\u001b[39;00m\n\u001b[1;32m     11\u001b[0m     _deprecation,\n\u001b[1;32m     12\u001b[0m     errors,\n\u001b[1;32m     13\u001b[0m     symbolic_caffe2,\n\u001b[1;32m     14\u001b[0m     symbolic_helper,\n\u001b[1;32m     15\u001b[0m     symbolic_opset7,\n\u001b[1;32m     16\u001b[0m     symbolic_opset8,\n\u001b[1;32m     17\u001b[0m     symbolic_opset9,\n\u001b[1;32m     18\u001b[0m     symbolic_opset10,\n\u001b[1;32m     19\u001b[0m     symbolic_opset11,\n\u001b[1;32m     20\u001b[0m     symbolic_opset12,\n\u001b[1;32m     21\u001b[0m     symbolic_opset13,\n\u001b[1;32m     22\u001b[0m     symbolic_opset14,\n\u001b[1;32m     23\u001b[0m     symbolic_opset15,\n\u001b[1;32m     24\u001b[0m     symbolic_opset16,\n\u001b[1;32m     25\u001b[0m     symbolic_opset17,\n\u001b[1;32m     26\u001b[0m     symbolic_opset18,\n\u001b[1;32m     27\u001b[0m     utils,\n\u001b[1;32m     28\u001b[0m )\n\u001b[1;32m     30\u001b[0m \u001b[38;5;66;03m# TODO(After 1.13 release): Remove the deprecated SymbolicContext\u001b[39;00m\n\u001b[1;32m     31\u001b[0m \u001b[38;5;28;01mfrom\u001b[39;00m \u001b[38;5;21;01m.\u001b[39;00m\u001b[38;5;21;01m_exporter_states\u001b[39;00m \u001b[38;5;28;01mimport\u001b[39;00m ExportTypes, SymbolicContext\n",
      "File \u001b[0;32m~/anaconda3/lib/python3.11/site-packages/torch/onnx/symbolic_caffe2.py:4\u001b[0m\n\u001b[1;32m      1\u001b[0m \u001b[38;5;28;01mimport\u001b[39;00m \u001b[38;5;21;01mimportlib\u001b[39;00m\n\u001b[1;32m      2\u001b[0m \u001b[38;5;28;01mimport\u001b[39;00m \u001b[38;5;21;01minspect\u001b[39;00m\n\u001b[0;32m----> 4\u001b[0m \u001b[38;5;28;01mfrom\u001b[39;00m \u001b[38;5;21;01mtorch\u001b[39;00m\u001b[38;5;21;01m.\u001b[39;00m\u001b[38;5;21;01monnx\u001b[39;00m \u001b[38;5;28;01mimport\u001b[39;00m symbolic_helper, symbolic_opset9 \u001b[38;5;28;01mas\u001b[39;00m opset9\n\u001b[1;32m      5\u001b[0m \u001b[38;5;28;01mfrom\u001b[39;00m \u001b[38;5;21;01mtorch\u001b[39;00m\u001b[38;5;21;01m.\u001b[39;00m\u001b[38;5;21;01monnx\u001b[39;00m\u001b[38;5;21;01m.\u001b[39;00m\u001b[38;5;21;01m_internal\u001b[39;00m \u001b[38;5;28;01mimport\u001b[39;00m jit_utils, registration\n\u001b[1;32m      8\u001b[0m \u001b[38;5;28;01mdef\u001b[39;00m \u001b[38;5;21mregister_quantized_ops\u001b[39m(domain: \u001b[38;5;28mstr\u001b[39m, version: \u001b[38;5;28mint\u001b[39m):\n\u001b[1;32m      9\u001b[0m     \u001b[38;5;66;03m# Register all quantized ops\u001b[39;00m\n",
      "File \u001b[0;32m~/anaconda3/lib/python3.11/site-packages/torch/onnx/symbolic_helper.py:26\u001b[0m\n\u001b[1;32m     23\u001b[0m \u001b[38;5;28;01mfrom\u001b[39;00m \u001b[38;5;21;01mtorch\u001b[39;00m \u001b[38;5;28;01mimport\u001b[39;00m _C\n\u001b[1;32m     25\u001b[0m \u001b[38;5;66;03m# Monkey-patch graph manipulation methods on Graph, used for the ONNX symbolics\u001b[39;00m\n\u001b[0;32m---> 26\u001b[0m \u001b[38;5;28;01mfrom\u001b[39;00m \u001b[38;5;21;01mtorch\u001b[39;00m\u001b[38;5;21;01m.\u001b[39;00m\u001b[38;5;21;01monnx\u001b[39;00m \u001b[38;5;28;01mimport\u001b[39;00m _constants, _type_utils, errors\n\u001b[1;32m     27\u001b[0m \u001b[38;5;28;01mfrom\u001b[39;00m \u001b[38;5;21;01mtorch\u001b[39;00m\u001b[38;5;21;01m.\u001b[39;00m\u001b[38;5;21;01monnx\u001b[39;00m\u001b[38;5;21;01m.\u001b[39;00m\u001b[38;5;21;01m_globals\u001b[39;00m \u001b[38;5;28;01mimport\u001b[39;00m GLOBALS\n\u001b[1;32m     28\u001b[0m \u001b[38;5;28;01mfrom\u001b[39;00m \u001b[38;5;21;01mtorch\u001b[39;00m\u001b[38;5;21;01m.\u001b[39;00m\u001b[38;5;21;01monnx\u001b[39;00m\u001b[38;5;21;01m.\u001b[39;00m\u001b[38;5;21;01m_internal\u001b[39;00m \u001b[38;5;28;01mimport\u001b[39;00m _beartype, jit_utils\n",
      "File \u001b[0;32m~/anaconda3/lib/python3.11/site-packages/torch/onnx/_type_utils.py:351\u001b[0m\n\u001b[1;32m    304\u001b[0m _SCALAR_TYPE_TO_TORCH_NAME: Dict[JitScalarType, TorchName] \u001b[38;5;241m=\u001b[39m {\n\u001b[1;32m    305\u001b[0m     JitScalarType\u001b[38;5;241m.\u001b[39mBOOL: \u001b[38;5;124m\"\u001b[39m\u001b[38;5;124mbool\u001b[39m\u001b[38;5;124m\"\u001b[39m,\n\u001b[1;32m    306\u001b[0m     JitScalarType\u001b[38;5;241m.\u001b[39mUINT8: \u001b[38;5;124m\"\u001b[39m\u001b[38;5;124muint8_t\u001b[39m\u001b[38;5;124m\"\u001b[39m,\n\u001b[0;32m   (...)\u001b[0m\n\u001b[1;32m    324\u001b[0m     JitScalarType\u001b[38;5;241m.\u001b[39mFLOAT8E4M3FNUZ: \u001b[38;5;124m\"\u001b[39m\u001b[38;5;124mfloat8_e4m3fnuz\u001b[39m\u001b[38;5;124m\"\u001b[39m,\n\u001b[1;32m    325\u001b[0m }\n\u001b[1;32m    327\u001b[0m _TORCH_NAME_TO_SCALAR_TYPE: Dict[TorchName, JitScalarType] \u001b[38;5;241m=\u001b[39m {\n\u001b[1;32m    328\u001b[0m     v: k \u001b[38;5;28;01mfor\u001b[39;00m k, v \u001b[38;5;129;01min\u001b[39;00m _SCALAR_TYPE_TO_TORCH_NAME\u001b[38;5;241m.\u001b[39mitems()\n\u001b[1;32m    329\u001b[0m }\n\u001b[1;32m    331\u001b[0m _SCALAR_TYPE_TO_ONNX \u001b[38;5;241m=\u001b[39m {\n\u001b[1;32m    332\u001b[0m     JitScalarType\u001b[38;5;241m.\u001b[39mBOOL: _C_onnx\u001b[38;5;241m.\u001b[39mTensorProtoDataType\u001b[38;5;241m.\u001b[39mBOOL,\n\u001b[1;32m    333\u001b[0m     JitScalarType\u001b[38;5;241m.\u001b[39mUINT8: _C_onnx\u001b[38;5;241m.\u001b[39mTensorProtoDataType\u001b[38;5;241m.\u001b[39mUINT8,\n\u001b[1;32m    334\u001b[0m     JitScalarType\u001b[38;5;241m.\u001b[39mINT8: _C_onnx\u001b[38;5;241m.\u001b[39mTensorProtoDataType\u001b[38;5;241m.\u001b[39mINT8,\n\u001b[1;32m    335\u001b[0m     JitScalarType\u001b[38;5;241m.\u001b[39mINT16: _C_onnx\u001b[38;5;241m.\u001b[39mTensorProtoDataType\u001b[38;5;241m.\u001b[39mINT16,\n\u001b[1;32m    336\u001b[0m     JitScalarType\u001b[38;5;241m.\u001b[39mINT: _C_onnx\u001b[38;5;241m.\u001b[39mTensorProtoDataType\u001b[38;5;241m.\u001b[39mINT32,\n\u001b[1;32m    337\u001b[0m     JitScalarType\u001b[38;5;241m.\u001b[39mINT64: _C_onnx\u001b[38;5;241m.\u001b[39mTensorProtoDataType\u001b[38;5;241m.\u001b[39mINT64,\n\u001b[1;32m    338\u001b[0m     JitScalarType\u001b[38;5;241m.\u001b[39mHALF: _C_onnx\u001b[38;5;241m.\u001b[39mTensorProtoDataType\u001b[38;5;241m.\u001b[39mFLOAT16,\n\u001b[1;32m    339\u001b[0m     JitScalarType\u001b[38;5;241m.\u001b[39mFLOAT: _C_onnx\u001b[38;5;241m.\u001b[39mTensorProtoDataType\u001b[38;5;241m.\u001b[39mFLOAT,\n\u001b[1;32m    340\u001b[0m     JitScalarType\u001b[38;5;241m.\u001b[39mDOUBLE: _C_onnx\u001b[38;5;241m.\u001b[39mTensorProtoDataType\u001b[38;5;241m.\u001b[39mDOUBLE,\n\u001b[1;32m    341\u001b[0m     JitScalarType\u001b[38;5;241m.\u001b[39mCOMPLEX64: _C_onnx\u001b[38;5;241m.\u001b[39mTensorProtoDataType\u001b[38;5;241m.\u001b[39mCOMPLEX64,\n\u001b[1;32m    342\u001b[0m     JitScalarType\u001b[38;5;241m.\u001b[39mCOMPLEX128: _C_onnx\u001b[38;5;241m.\u001b[39mTensorProtoDataType\u001b[38;5;241m.\u001b[39mCOMPLEX128,\n\u001b[1;32m    343\u001b[0m     JitScalarType\u001b[38;5;241m.\u001b[39mBFLOAT16: _C_onnx\u001b[38;5;241m.\u001b[39mTensorProtoDataType\u001b[38;5;241m.\u001b[39mBFLOAT16,\n\u001b[1;32m    344\u001b[0m     JitScalarType\u001b[38;5;241m.\u001b[39mUNDEFINED: _C_onnx\u001b[38;5;241m.\u001b[39mTensorProtoDataType\u001b[38;5;241m.\u001b[39mUNDEFINED,\n\u001b[1;32m    345\u001b[0m     JitScalarType\u001b[38;5;241m.\u001b[39mCOMPLEX32: _C_onnx\u001b[38;5;241m.\u001b[39mTensorProtoDataType\u001b[38;5;241m.\u001b[39mUNDEFINED,\n\u001b[1;32m    346\u001b[0m     JitScalarType\u001b[38;5;241m.\u001b[39mQINT8: _C_onnx\u001b[38;5;241m.\u001b[39mTensorProtoDataType\u001b[38;5;241m.\u001b[39mINT8,\n\u001b[1;32m    347\u001b[0m     JitScalarType\u001b[38;5;241m.\u001b[39mQUINT8: _C_onnx\u001b[38;5;241m.\u001b[39mTensorProtoDataType\u001b[38;5;241m.\u001b[39mUINT8,\n\u001b[1;32m    348\u001b[0m     JitScalarType\u001b[38;5;241m.\u001b[39mQINT32: _C_onnx\u001b[38;5;241m.\u001b[39mTensorProtoDataType\u001b[38;5;241m.\u001b[39mINT32,\n\u001b[1;32m    349\u001b[0m     JitScalarType\u001b[38;5;241m.\u001b[39mFLOAT8E5M2: _C_onnx\u001b[38;5;241m.\u001b[39mTensorProtoDataType\u001b[38;5;241m.\u001b[39mFLOAT8E5M2,\n\u001b[1;32m    350\u001b[0m     JitScalarType\u001b[38;5;241m.\u001b[39mFLOAT8E4M3FN: _C_onnx\u001b[38;5;241m.\u001b[39mTensorProtoDataType\u001b[38;5;241m.\u001b[39mFLOAT8E4M3FN,\n\u001b[0;32m--> 351\u001b[0m     JitScalarType\u001b[38;5;241m.\u001b[39mFLOAT8E5M2FNUZ: _C_onnx\u001b[38;5;241m.\u001b[39mTensorProtoDataType\u001b[38;5;241m.\u001b[39mFLOAT8E5M2FNUZ,\n\u001b[1;32m    352\u001b[0m     JitScalarType\u001b[38;5;241m.\u001b[39mFLOAT8E4M3FNUZ: _C_onnx\u001b[38;5;241m.\u001b[39mTensorProtoDataType\u001b[38;5;241m.\u001b[39mFLOAT8E4M3FNUZ,\n\u001b[1;32m    353\u001b[0m }\n\u001b[1;32m    355\u001b[0m \u001b[38;5;66;03m# source of truth is\u001b[39;00m\n\u001b[1;32m    356\u001b[0m \u001b[38;5;66;03m# https://github.com/pytorch/pytorch/blob/master/torch/csrc/utils/tensor_dtypes.cpp\u001b[39;00m\n\u001b[1;32m    357\u001b[0m _SCALAR_TYPE_TO_DTYPE \u001b[38;5;241m=\u001b[39m {\n\u001b[1;32m    358\u001b[0m     JitScalarType\u001b[38;5;241m.\u001b[39mBOOL: torch\u001b[38;5;241m.\u001b[39mbool,\n\u001b[1;32m    359\u001b[0m     JitScalarType\u001b[38;5;241m.\u001b[39mUINT8: torch\u001b[38;5;241m.\u001b[39muint8,\n\u001b[0;32m   (...)\u001b[0m\n\u001b[1;32m    377\u001b[0m     JitScalarType\u001b[38;5;241m.\u001b[39mFLOAT8E4M3FNUZ: torch\u001b[38;5;241m.\u001b[39mfloat8_e4m3fnuz,\n\u001b[1;32m    378\u001b[0m }\n",
      "\u001b[0;31mAttributeError\u001b[0m: type object 'torch._C._onnx.TensorProtoDataType' has no attribute 'FLOAT8E5M2FNUZ'"
     ]
    }
   ],
   "source": [
    "import pandas as pd\n",
    "import numpy as np\n",
    "import matplotlib.pyplot as plt\n",
    "import seaborn as sns\n",
    "import os\n",
    "import torch\n",
    "import torch.nn as nn\n",
    "from torch.utils.data import DataLoader\n",
    "from PIL import Image\n",
    "import torchvision\n",
    "import torchvision.transforms as transforms\n",
    "import torch.optim as optim\n",
    "import torch.nn.functional as F\n",
    "import colorama\n",
    "from colorama import Fore, Style\n"
   ]
  },
  {
   "cell_type": "code",
   "execution_count": null,
   "metadata": {},
   "outputs": [],
   "source": []
  }
 ],
 "metadata": {
  "kernelspec": {
   "display_name": "base",
   "language": "python",
   "name": "python3"
  },
  "language_info": {
   "codemirror_mode": {
    "name": "ipython",
    "version": 3
   },
   "file_extension": ".py",
   "mimetype": "text/x-python",
   "name": "python",
   "nbconvert_exporter": "python",
   "pygments_lexer": "ipython3",
   "version": "3.11.5"
  }
 },
 "nbformat": 4,
 "nbformat_minor": 2
}
