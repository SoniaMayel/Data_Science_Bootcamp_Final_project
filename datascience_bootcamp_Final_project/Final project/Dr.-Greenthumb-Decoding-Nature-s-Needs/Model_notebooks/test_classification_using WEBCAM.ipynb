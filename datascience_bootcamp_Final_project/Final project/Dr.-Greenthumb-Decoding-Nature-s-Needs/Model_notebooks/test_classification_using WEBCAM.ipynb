{
 "cells": [
  {
   "cell_type": "code",
   "execution_count": 22,
   "metadata": {},
   "outputs": [],
   "source": [
    "from tensorflow.keras.models import load_model"
   ]
  },
  {
   "cell_type": "code",
   "execution_count": 23,
   "metadata": {},
   "outputs": [],
   "source": [
    "import os\n",
    "#import opencv for computer vision staff\n",
    "import cv2\n",
    "#import matplotlib to visualize an image\n",
    "from matplotlib import pyplot as plt\n",
    "import tensorflow as tf\n",
    "import numpy as np"
   ]
  },
  {
   "cell_type": "code",
   "execution_count": 24,
   "metadata": {},
   "outputs": [
    {
     "name": "stderr",
     "output_type": "stream",
     "text": [
      "WARNING:absl:Compiled the loaded model, but the compiled metrics have yet to be built. `model.compile_metrics` will be empty until you train or evaluate the model.\n"
     ]
    }
   ],
   "source": [
    "model = load_model(os.path.join('models', 'mutil_class_classification_model.h5'))"
   ]
  },
  {
   "cell_type": "code",
   "execution_count": 32,
   "metadata": {},
   "outputs": [],
   "source": [
    "def take_photo_plant():\n",
    "    #Connect to webcam\n",
    "    cap = cv2.VideoCapture(0)\n",
    "    # Loop through every frame until we close our webcam\n",
    "    while cap.isOpened(): \n",
    "        ret, frame = cap.read()\n",
    "        \n",
    "        # Show image \n",
    "        cv2.imshow('Webcam', frame)\n",
    "        cv2.imwrite('webcamphoto_plant.jpg', frame)\n",
    "        # Checks whether q has been hit and stops the loop\n",
    "        if cv2.waitKey(1) & 0xFF == ord('q'): \n",
    "            break\n",
    "\n",
    "    # Releases the webcam\n",
    "    cap.release()\n",
    "    # Closes the frame\n",
    "    cv2.destroyAllWindows()\n"
   ]
  },
  {
   "cell_type": "code",
   "execution_count": 33,
   "metadata": {},
   "outputs": [],
   "source": [
    "take_photo_plant()"
   ]
  },
  {
   "cell_type": "code",
   "execution_count": 34,
   "metadata": {},
   "outputs": [],
   "source": [
    "\n",
    "image_cam = cv2.imread('webcamphoto_plant.jpg')\n",
    "resize = tf.image.resize(image_cam,(256,256))\n",
    "# Preprocess the resized image\n",
    "resize_normalized = resize / 255.0  # Normalize pixel values\n",
    "resize_normalized = np.expand_dims(resize_normalized, axis=0)  # Add batch dimension\n"
   ]
  },
  {
   "cell_type": "code",
   "execution_count": 35,
   "metadata": {},
   "outputs": [],
   "source": [
    "class_labels = ['Tomato___spider_mites',\n",
    " 'Strawberry___healthy',\n",
    " 'Grape___black_rot',\n",
    " 'Potato___early_blight',\n",
    " 'Tomato___leaf_curl',\n",
    " 'Tomato___mosaic_virus',\n",
    " 'Blueberry___healthy',\n",
    " 'Sugercane___healthy',\n",
    " 'Grape___leaf_blight',\n",
    " 'Cherry___powdery_mildew',\n",
    " 'Tomato___target_spot',\n",
    " '.DS_Store',\n",
    " 'Peach___healthy',\n",
    " 'Potato___late_blight',\n",
    " 'Apple___rust',\n",
    " 'Tomato___late_blight',\n",
    " 'Tomato___leaf_mold',\n",
    " 'Apple___alternaria_leaf_spot',\n",
    " 'Sugercane___red_rot',\n",
    " 'Potato___pests',\n",
    " 'Cassava___healthy',\n",
    " 'Tomato___bacterial_spot',\n",
    " 'Grape___healthy',\n",
    " 'Sugercane___mosaic',\n",
    " 'Rice___bacterial_blight',\n",
    " 'Orange___citrus_greening',\n",
    " 'Tomato___early_blight',\n",
    " 'Apple___scab',\n",
    " 'Bell_pepper___bacterial_spot',\n",
    " 'Potato___bacterial_wilt',\n",
    " 'Raspberry___healthy',\n",
    " 'Rice___blast',\n",
    " 'Tomato___healthy',\n",
    " 'Corn___northern_leaf_blight',\n",
    " 'Rice___brown_spot',\n",
    " 'Cassava___mosaic_disease',\n",
    " 'Sugercane___rust',\n",
    " 'Cassava___brown_streak_disease',\n",
    " 'Cherry___healthy',\n",
    " 'Rice___tungro',\n",
    " 'Grape___black_measles',\n",
    " 'Cassava___bacterial_blight',\n",
    " 'Apple___brown_spot',\n",
    " 'Corn___common_rust',\n",
    " 'Cassava___green_mottle',\n",
    " 'Bell_pepper___healthy',\n",
    " 'Peach___bacterial_spot',\n",
    " 'Apple___gray_spot',\n",
    " 'Potato___virus',\n",
    " 'Potato___nematode',\n",
    " 'Potato___phytophthora',\n",
    " 'Tomato___septoria_leaf_spot',\n",
    " 'Corn___healthy',\n",
    " 'Squash___powdery_mildew',\n",
    " 'Corn___gray_leaf_spot',\n",
    " 'Apple___black_rot',\n",
    " 'Sugercane___yellow_leaf',\n",
    " 'Apple___healthy',\n",
    " 'Strawberry___leaf_scorch',\n",
    " 'Potato___healthy',\n",
    " 'Soybean___healthy']\n"
   ]
  },
  {
   "cell_type": "code",
   "execution_count": 36,
   "metadata": {},
   "outputs": [],
   "source": [
    "def prediction():\n",
    "    prediction_new = model.predict(resize_normalized)\n",
    "    predicted_class_index = np.argmax(prediction_new, axis=1)[0]\n",
    "    predicted_class_label = class_labels[predicted_class_index]\n",
    "    print('Predicted disease is ', predicted_class_label)\n",
    "    "
   ]
  },
  {
   "cell_type": "code",
   "execution_count": 37,
   "metadata": {},
   "outputs": [
    {
     "name": "stdout",
     "output_type": "stream",
     "text": [
      "\u001b[1m1/1\u001b[0m \u001b[32m━━━━━━━━━━━━━━━━━━━━\u001b[0m\u001b[37m\u001b[0m \u001b[1m0s\u001b[0m 13ms/step\n",
      "Predicted disease is  Potato___late_blight\n"
     ]
    }
   ],
   "source": [
    "prediction()"
   ]
  }
 ],
 "metadata": {
  "kernelspec": {
   "display_name": "tf",
   "language": "python",
   "name": "python3"
  },
  "language_info": {
   "codemirror_mode": {
    "name": "ipython",
    "version": 3
   },
   "file_extension": ".py",
   "mimetype": "text/x-python",
   "name": "python",
   "nbconvert_exporter": "python",
   "pygments_lexer": "ipython3",
   "version": "3.11.5"
  }
 },
 "nbformat": 4,
 "nbformat_minor": 2
}
